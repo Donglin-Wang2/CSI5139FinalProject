{
 "cells": [
  {
   "cell_type": "code",
   "execution_count": 1,
   "metadata": {},
   "outputs": [],
   "source": [
    "import os\n",
    "import numpy as np"
   ]
  },
  {
   "cell_type": "code",
   "execution_count": 2,
   "metadata": {},
   "outputs": [
    {
     "name": "stdout",
     "output_type": "stream",
     "text": [
      "Cycle: 1\n",
      "Cycle: 2\n",
      "Cycle: 3\n",
      "Cycle: 4\n",
      "Cycle: 5\n",
      "Cycle: 6\n",
      "Cycle: 7\n",
      "Cycle: 8\n",
      "Cycle: 9\n",
      "Cycle: 10\n",
      "Cycle: 11\n",
      "Cycle: 12\n",
      "Cycle: 13\n",
      "Cycle: 14\n",
      "Cycle: 15\n",
      "Cycle: 16\n",
      "Cycle: 17\n",
      "Cycle: 18\n",
      "Cycle: 19\n",
      "Cycle: 20\n"
     ]
    }
   ],
   "source": [
    "img_name = 'birds'\n",
    "total_scale = [2, 4, 6, 8]\n",
    "gen_scale = 6\n",
    "output_scale = 6\n",
    "os.rename('./TrainedModels/%s'%(img_name), './TrainedModels/%s_cyclic_0'%(img_name))\n",
    "for i in range(1, 21):\n",
    "    print('Cycle: %s' % i)\n",
    "    os.rename('./TrainedModels/%s_cyclic_%s'%(img_name, i-1), './TrainedModels/%s_cyclic_%s'%(img_name, i))\n",
    "    os.system('python random_samples.py --input_name %s_cyclic_%s.png --mode random_samples --gen_start_scale %s --not_cuda'%(img_name, i, gen_scale))\n",
    "    os.rename('./Output/RandomSamples/%s_cyclic_%s/gen_start_scale=%s/1.png'%(img_name, i, gen_scale), './Input/Images/%s_cyclic_%s.png'%(img_name, i+1))\n",
    "os.rename('./TrainedModels/%s_cyclic_%s'%(img_name, i), './TrainedModels/%s'%(img_name))\n"
   ]
  },
  {
   "cell_type": "code",
   "execution_count": 3,
   "metadata": {},
   "outputs": [
    {
     "name": "stdout",
     "output_type": "stream",
     "text": [
      "Cycle: 1\n",
      "Cycle: 2\n",
      "Cycle: 3\n",
      "Cycle: 4\n",
      "Cycle: 5\n",
      "Cycle: 6\n",
      "Cycle: 7\n",
      "Cycle: 8\n",
      "Cycle: 9\n",
      "Cycle: 10\n",
      "Cycle: 11\n",
      "Cycle: 12\n",
      "Cycle: 13\n",
      "Cycle: 14\n",
      "Cycle: 15\n",
      "Cycle: 16\n",
      "Cycle: 17\n",
      "Cycle: 18\n",
      "Cycle: 19\n",
      "Cycle: 20\n"
     ]
    }
   ],
   "source": [
    "img_name = 'cows'\n",
    "total_scale = [2, 4, 6, 8]\n",
    "gen_scale = 6\n",
    "output_scale = 6\n",
    "os.rename('./TrainedModels/%s'%(img_name), './TrainedModels/%s_cyclic_0'%(img_name))\n",
    "for i in range(1, 21):\n",
    "    print('Cycle: %s' % i)\n",
    "    os.rename('./TrainedModels/%s_cyclic_%s'%(img_name, i-1), './TrainedModels/%s_cyclic_%s'%(img_name, i))\n",
    "    os.system('python random_samples.py --input_name %s_cyclic_%s.png --mode random_samples --gen_start_scale %s --not_cuda'%(img_name, i, gen_scale))\n",
    "    os.rename('./Output/RandomSamples/%s_cyclic_%s/gen_start_scale=%s/1.png'%(img_name, i, gen_scale), './Input/Images/%s_cyclic_%s.png'%(img_name, i+1))\n",
    "os.rename('./TrainedModels/%s_cyclic_%s'%(img_name, i), './TrainedModels/%s'%(img_name))"
   ]
  },
  {
   "cell_type": "code",
   "execution_count": 4,
   "metadata": {},
   "outputs": [
    {
     "name": "stdout",
     "output_type": "stream",
     "text": [
      "Cycle: 1\n",
      "Cycle: 2\n",
      "Cycle: 3\n",
      "Cycle: 4\n",
      "Cycle: 5\n",
      "Cycle: 6\n",
      "Cycle: 7\n",
      "Cycle: 8\n",
      "Cycle: 9\n",
      "Cycle: 10\n",
      "Cycle: 11\n",
      "Cycle: 12\n",
      "Cycle: 13\n",
      "Cycle: 14\n",
      "Cycle: 15\n",
      "Cycle: 16\n",
      "Cycle: 17\n",
      "Cycle: 18\n",
      "Cycle: 19\n",
      "Cycle: 20\n"
     ]
    }
   ],
   "source": [
    "img_name = 'zebra'\n",
    "total_scale = [2, 4, 6, 8]\n",
    "gen_scale = 6\n",
    "output_scale = 6\n",
    "os.rename('./TrainedModels/%s'%(img_name), './TrainedModels/%s_cyclic_0'%(img_name))\n",
    "for i in range(1, 21):\n",
    "    print('Cycle: %s' % i)\n",
    "    os.rename('./TrainedModels/%s_cyclic_%s'%(img_name, i-1), './TrainedModels/%s_cyclic_%s'%(img_name, i))\n",
    "    os.system('python random_samples.py --input_name %s_cyclic_%s.png --mode random_samples --gen_start_scale %s --not_cuda'%(img_name, i, gen_scale))\n",
    "    os.rename('./Output/RandomSamples/%s_cyclic_%s/gen_start_scale=%s/1.png'%(img_name, i, gen_scale), './Input/Images/%s_cyclic_%s.png'%(img_name, i+1))\n",
    "os.rename('./TrainedModels/%s_cyclic_%s'%(img_name, i), './TrainedModels/%s'%(img_name))"
   ]
  }
 ],
 "metadata": {
  "kernelspec": {
   "display_name": "SingGanTest",
   "language": "python",
   "name": "singgantest"
  },
  "language_info": {
   "codemirror_mode": {
    "name": "ipython",
    "version": 3
   },
   "file_extension": ".py",
   "mimetype": "text/x-python",
   "name": "python",
   "nbconvert_exporter": "python",
   "pygments_lexer": "ipython3",
   "version": "3.5.6"
  }
 },
 "nbformat": 4,
 "nbformat_minor": 4
}
