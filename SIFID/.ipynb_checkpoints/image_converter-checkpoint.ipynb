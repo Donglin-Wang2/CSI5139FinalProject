{
 "cells": [
  {
   "cell_type": "code",
   "execution_count": 1,
   "metadata": {},
   "outputs": [],
   "source": [
    "import os\n",
    "from PIL import Image"
   ]
  },
  {
   "cell_type": "code",
   "execution_count": 2,
   "metadata": {},
   "outputs": [],
   "source": [
    "def png_to_jpg(source_folder, target_folder):\n",
    "    for filename in os.listdir(source_folder):\n",
    "        if filename[-4:] == '.png':\n",
    "            if not os.path.exists(os.path.dirname(target_folder)):\n",
    "                try:\n",
    "                    os.makedirs(os.path.dirname(target_folder))\n",
    "                except OSError as exc: # Guard against race condition\n",
    "                    if exc.errno != errno.EEXIST:\n",
    "                        raise\n",
    "            img = Image.open(source_folder + filename).convert('RGB')\n",
    "            new_filename = filename[:-4] + '.jpg'\n",
    "            img.save(target_folder + new_filename)"
   ]
  },
  {
   "cell_type": "code",
   "execution_count": 21,
   "metadata": {},
   "outputs": [],
   "source": [
    "# Image conversion for Experiment 1\n",
    "foldernames = ['cows', 'birds', 'balloons', 'zebra']\n",
    "total_scale = 6\n",
    "for foldername in foldernames:\n",
    "    for scale in range(7):\n",
    "        real_source_path = './raw/{}{}/real/'.format(foldername, total_scale)\n",
    "        real_target_path = './processed/{}{}/real/'.format(foldername, total_scale)\n",
    "        fake_source_path = './raw/{}{}/gen_start_scale={}/'.format(foldername, total_scale, scale)\n",
    "        fake_target_path = './processed/{}{}/gen_start_scale={}/'.format(foldername, total_scale, scale)  \n",
    "        png_to_jpg(fake_source_path, fake_target_path)\n",
    "        png_to_jpg(real_source_path, real_target_path)"
   ]
  },
  {
   "cell_type": "code",
   "execution_count": null,
   "metadata": {},
   "outputs": [],
   "source": [
    "# Image conversion for Experiment 2\n",
    "foldernames = ['cows', 'birds', 'balloons', 'zebra']\n",
    "total_scales = [2, 4, 6, 8]\n",
    "\n",
    "fake_root_path = '../Output/RandomSamples/'\n",
    "\n",
    "for foldername in foldernames:\n",
    "    for scale in total_scales:\n",
    "        real_source_path = f'./raw/{foldername}/real/'\n",
    "        real_target_path = f'./processed/{foldername}{scale}/real/'\n",
    "        fake_source_path = f'{fake_root_path}{foldername}{scale}/gen_start_scale={scale}/'\n",
    "        fake_target_path = f'./processed/{foldername}{scale}/gen_start_scale={scale}/'\n",
    "        \n",
    "        png_to_jpg(fake_source_path, fake_target_path)\n",
    "        png_to_jpg(real_source_path, real_target_path)"
   ]
  },
  {
   "cell_type": "code",
   "execution_count": 34,
   "metadata": {},
   "outputs": [],
   "source": [
    "# Image conversion for Experiment 3\n",
    "foldernames = ['birds', 'cows', 'zebra']\n",
    "start_scale = 2\n",
    "cycles = range(1, 21)\n",
    "fake_root_path = '../Output/RandomSamples/'\n",
    "for foldername in foldernames:\n",
    "    for cycle in cycles:\n",
    "        fake_source_path = '{}{}_cyclic_{}/gen_start_scale={}/'.format(fake_root_path, foldername, cycle, start_scale)\n",
    "        fake_target_path = './processed/{}_cyclic_{}/gen_start_scale={}/'.format(foldername, cycle, start_scale)\n",
    "        real_source_path = './raw/reals/{}/'.format(foldername)\n",
    "        real_target_path = './processed/{}_cyclic_{}/real/'.format(foldername, cycle)\n",
    "        png_to_jpg(fake_source_path, fake_target_path)\n",
    "        png_to_jpg(real_source_path, real_target_path)"
   ]
  },
  {
   "cell_type": "code",
   "execution_count": null,
   "metadata": {},
   "outputs": [],
   "source": []
  }
 ],
 "metadata": {
  "kernelspec": {
   "display_name": "Python 3",
   "language": "python",
   "name": "python3"
  },
  "language_info": {
   "codemirror_mode": {
    "name": "ipython",
    "version": 3
   },
   "file_extension": ".py",
   "mimetype": "text/x-python",
   "name": "python",
   "nbconvert_exporter": "python",
   "pygments_lexer": "ipython3",
   "version": "3.5.6"
  }
 },
 "nbformat": 4,
 "nbformat_minor": 4
}
