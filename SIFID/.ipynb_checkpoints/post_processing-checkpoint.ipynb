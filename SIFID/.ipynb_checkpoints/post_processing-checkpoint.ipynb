{
 "cells": [
  {
   "cell_type": "code",
   "execution_count": 1,
   "metadata": {},
   "outputs": [],
   "source": [
    "import os\n",
    "import numpy as np\n",
    "from PIL import Image\n",
    "from sifid_score import calculate_sifid_given_paths\n",
    "import matplotlib.pyplot as plt"
   ]
  },
  {
   "cell_type": "code",
   "execution_count": 2,
   "metadata": {},
   "outputs": [],
   "source": [
    "def calc_avg_sifid(real_file_path, fake_folder_path):\n",
    "    score = calculate_sifid_given_paths(real_file_path, \n",
    "                                        fake_folder_path,\n",
    "                                        1,False,64,'jpg')\n",
    "    return np.array(score)"
   ]
  },
  {
   "cell_type": "code",
   "execution_count": null,
   "metadata": {},
   "outputs": [],
   "source": [
    "names = ['birds', 'cows', 'balloons', 'zebra']\n",
    "total_scale = 6\n",
    "num_scales = 7\n",
    "result1 = np.zeros((len(names), num_scales))\n",
    "\n",
    "for i, name in enumerate(names):\n",
    "    for scale in range(num_scales):\n",
    "        print(name, scale)\n",
    "        real_img_folder = './processed/{}{}/real/'.format(name, total_scale)\n",
    "        fake_img_folder = './processed/{}{}/gen_start_scale={}/'.format(name, total_scale, scale)\n",
    "        avg = calc_avg_sifid(real_img_folder, fake_img_folder).mean()\n",
    "        result1[i][scale] = avg"
   ]
  },
  {
   "cell_type": "code",
   "execution_count": null,
   "metadata": {},
   "outputs": [],
   "source": [
    "\n",
    "fig, (ax1, ax2) = plt.subplots(1, 2)\n",
    "\n",
    "\n",
    "\n",
    "\n",
    "ax1.plot(result1[0], label='birds')\n",
    "ax1.plot(result1[1], label='cows')\n",
    "ax2.plot(result1[2], label='balloons')\n",
    "ax2.plot(result1[3], label='zebra')\n",
    "ax1.set_ylabel('SIFID')\n",
    "ax1.set_xlabel('Starting Scale')\n",
    "ax2.set_xlabel('Starting Scale')\n",
    "ax1.legend()\n",
    "ax2.legend()"
   ]
  },
  {
   "cell_type": "code",
   "execution_count": null,
   "metadata": {},
   "outputs": [],
   "source": [
    "plt.plot(result1[2], label='balloons')\n",
    "plt.plot(result1[3], label='zebra')\n",
    "plt.ylabel('SIFID')\n",
    "plt.xlabel('Starting Scale')\n",
    "plt.legend()\n",
    "plt.suptitle('The SIFID of different source image with different starting scale')"
   ]
  },
  {
   "cell_type": "code",
   "execution_count": 3,
   "metadata": {},
   "outputs": [
    {
     "name": "stdout",
     "output_type": "stream",
     "text": [
      "birds 2\n",
      "birds 4\n",
      "birds 6\n",
      "birds 8\n",
      "cows 2\n",
      "cows 4\n",
      "cows 6\n",
      "cows 8\n",
      "balloons 2\n",
      "balloons 4\n",
      "balloons 6\n",
      "balloons 8\n",
      "zebra 2\n",
      "zebra 4\n",
      "zebra 6\n",
      "zebra 8\n"
     ]
    }
   ],
   "source": [
    "names = ['birds', 'cows', 'balloons', 'zebra']\n",
    "total_scales = [2, 4, 6, 8]\n",
    "result2 = np.zeros((len(names), len(total_scales)))\n",
    "for i, name in enumerate(names):\n",
    "    for j, scale in enumerate(total_scales):\n",
    "        print(name, scale)\n",
    "        real_img_folder = './processed/{}{}/real/'.format(name, scale)\n",
    "        fake_img_folder = './processed/{}{}/gen_start_scale={}/'.format(name, scale, scale)\n",
    "        avg = calc_avg_sifid(real_img_folder, fake_img_folder).mean()\n",
    "        result2[i][j] = avg"
   ]
  },
  {
   "cell_type": "code",
   "execution_count": null,
   "metadata": {},
   "outputs": [],
   "source": [
    "plt.plot(total_scales, result2[0], label='birds')\n",
    "plt.plot(total_scales, result2[1], label='cows')\n",
    "plt.plot(total_scales, result2[2], label='balloons')\n",
    "plt.plot(total_scales, result2[3], label='zebra')\n",
    "plt.legend()\n",
    "plt.ylabel('SIFID')\n",
    "plt.xlabel('Total number of layers')"
   ]
  },
  {
   "cell_type": "code",
   "execution_count": 4,
   "metadata": {},
   "outputs": [
    {
     "name": "stdout",
     "output_type": "stream",
     "text": [
      "birds 1\n",
      "birds 2\n",
      "birds 3\n",
      "birds 4\n",
      "birds 5\n",
      "birds 6\n",
      "birds 7\n",
      "birds 8\n",
      "birds 9\n",
      "birds 10\n",
      "birds 11\n",
      "birds 12\n",
      "birds 13\n",
      "birds 14\n",
      "birds 15\n",
      "birds 16\n",
      "birds 17\n",
      "birds 18\n",
      "birds 19\n",
      "birds 20\n",
      "cows 1\n",
      "cows 2\n",
      "cows 3\n",
      "cows 4\n",
      "cows 5\n",
      "cows 6\n",
      "cows 7\n",
      "cows 8\n",
      "cows 9\n",
      "cows 10\n",
      "cows 11\n",
      "cows 12\n",
      "cows 13\n",
      "cows 14\n",
      "cows 15\n",
      "cows 16\n",
      "cows 17\n",
      "cows 18\n",
      "cows 19\n",
      "cows 20\n",
      "balloons 1\n",
      "balloons 2\n",
      "balloons 3\n",
      "balloons 4\n",
      "balloons 5\n",
      "balloons 6\n",
      "balloons 7\n",
      "balloons 8\n",
      "balloons 9\n",
      "balloons 10\n",
      "balloons 11\n",
      "balloons 12\n",
      "balloons 13\n",
      "balloons 14\n",
      "balloons 15\n",
      "balloons 16\n",
      "balloons 17\n",
      "balloons 18\n",
      "balloons 19\n",
      "balloons 20\n",
      "zebra 1\n",
      "zebra 2\n",
      "zebra 3\n",
      "zebra 4\n",
      "zebra 5\n",
      "zebra 6\n",
      "zebra 7\n",
      "zebra 8\n",
      "zebra 9\n",
      "zebra 10\n",
      "zebra 11\n",
      "zebra 12\n",
      "zebra 13\n",
      "zebra 14\n",
      "zebra 15\n",
      "zebra 16\n",
      "zebra 17\n",
      "zebra 18\n",
      "zebra 19\n",
      "zebra 20\n"
     ]
    }
   ],
   "source": [
    "names = ['birds', 'cows', 'balloons', 'zebra']\n",
    "# names = ['balloons']\n",
    "start_scale = 2\n",
    "cycles = range(1, 21)\n",
    "result3 = np.zeros((len(names), len(cycles)))\n",
    "errors = np.zeros((len(names), len(cycles)))\n",
    "for i, name in enumerate(names):\n",
    "    for j, cycle in enumerate(cycles):\n",
    "        print(name, cycle)\n",
    "        real_img_folder = './processed/{}_cyclic_{}/real/'.format(name, cycle)\n",
    "        fake_img_folder =  './processed/{}_cyclic_{}/gen_start_scale={}/'.format(name, cycle, start_scale)\n",
    "        avg = calc_avg_sifid(real_img_folder, fake_img_folder)\n",
    "        result3[i][j] = avg.mean()\n"
   ]
  },
  {
   "cell_type": "code",
   "execution_count": 9,
   "metadata": {
    "scrolled": true
   },
   "outputs": [
    {
     "data": {
      "text/plain": [
       "<matplotlib.legend.Legend at 0x7fc808641c50>"
      ]
     },
     "execution_count": 9,
     "metadata": {},
     "output_type": "execute_result"
    },
    {
     "data": {
      "image/png": "[encoded data removed]",
      "text/plain": [
       "<Figure size 432x288 with 1 Axes>"
      ]
     },
     "metadata": {
      "needs_background": "light"
     },
     "output_type": "display_data"
    }
   ],
   "source": [
    "# plt.scatter(range(20), result3[0])\n",
    "# plt.plot([result2[2][2]] * 20)\n",
    "# fig, (ax1, ax2) = plt.subplots(1, 2)\n",
    "\n",
    "# ax1.plot(cycles, [result2[0][2]] * len(cycles), label='Birds original')\n",
    "# ax1.scatter(cycles, result3[0],  label='Birds repeated')\n",
    "# ax1.plot(cycles, [result2[1][2]] * len(cycles), label='Cows original')\n",
    "# ax1.scatter(cycles, result3[1],  label='Cows repeated')\n",
    "# ax1.set_xlabel('Number of re-generations')\n",
    "# ax1.set_ylabel('SIFID')\n",
    "\n",
    "\n",
    "\n",
    "\n",
    "# ax2.plot(cycles, [result2[2][2]] * len(cycles), label='Balloons original')\n",
    "# ax2.scatter(cycles, result3[2],  label='Balloons repeated')\n",
    "# ax2.plot(cycles, [result2[3][2]] * len(cycles), label='Zebra original')\n",
    "# ax2.scatter(cycles, result3[3],  label='Zebra repeated')\n",
    "# ax2.set_xlabel('Number of re-generations')\n",
    "# ax2.legend()\n",
    "# ax1.legend()\n",
    "\n",
    "# fig, (ax1, ax2) = plt.subplots(1, 2)\n",
    "\n",
    "\n",
    "plt.scatter(cycles, result3[0],  label='Birds repeated')\n",
    "\n",
    "plt.scatter(cycles, result3[1],  label='Cows repeated')\n",
    "plt.xlabel('Number of re-generations')\n",
    "plt.ylabel('SIFID')\n",
    "\n",
    "\n",
    "\n",
    "\n",
    "\n",
    "plt.scatter(cycles, result3[2],  label='Balloons repeated')\n",
    "\n",
    "plt.scatter(cycles, result3[3],  label='Zebra repeated')\n",
    "# ax2.set_xlabel('Number of re-generations')\n",
    "# ax2.legend()\n",
    "plt.legend()"
   ]
  },
  {
   "cell_type": "code",
   "execution_count": null,
   "metadata": {},
   "outputs": [],
   "source": [
    "plt.plot(cycles, [result2[2][2]] * len(cycles), label='Balloons original')\n",
    "plt.scatter(cycles, result3[2],  label='Balloons repeated')\n",
    "plt.plot(cycles, [result2[3][2]] * len(cycles), label='Zebra original')\n",
    "plt.scatter(cycles, result3[3],  label='Zebra repeated')\n",
    "plt.legend()"
   ]
  },
  {
   "cell_type": "code",
   "execution_count": 11,
   "metadata": {},
   "outputs": [
    {
     "name": "stdout",
     "output_type": "stream",
     "text": [
      "birds 20\n",
      "birds 20\n"
     ]
    },
    {
     "ename": "KeyboardInterrupt",
     "evalue": "",
     "output_type": "error",
     "traceback": [
      "\u001b[0;31m---------------------------------------------------------------------------\u001b[0m",
      "\u001b[0;31mKeyboardInterrupt\u001b[0m                         Traceback (most recent call last)",
      "\u001b[0;32m<ipython-input-11-6039c2e9ab6e>\u001b[0m in \u001b[0;36m<module>\u001b[0;34m()\u001b[0m\n\u001b[1;32m      9\u001b[0m         \u001b[0mreal_img_folder\u001b[0m \u001b[0;34m=\u001b[0m \u001b[0;34m'./processed/{}_skip_{}/real/'\u001b[0m\u001b[0;34m.\u001b[0m\u001b[0mformat\u001b[0m\u001b[0;34m(\u001b[0m\u001b[0mname\u001b[0m\u001b[0;34m,\u001b[0m \u001b[0mskip\u001b[0m\u001b[0;34m)\u001b[0m\u001b[0;34m\u001b[0m\u001b[0m\n\u001b[1;32m     10\u001b[0m         \u001b[0mfake_img_folder\u001b[0m \u001b[0;34m=\u001b[0m  \u001b[0;34m'./processed/{}_skip_{}/gen_start_scale={}/'\u001b[0m\u001b[0;34m.\u001b[0m\u001b[0mformat\u001b[0m\u001b[0;34m(\u001b[0m\u001b[0mname\u001b[0m\u001b[0;34m,\u001b[0m \u001b[0mskip\u001b[0m\u001b[0;34m,\u001b[0m \u001b[0mstart_scale\u001b[0m\u001b[0;34m)\u001b[0m\u001b[0;34m\u001b[0m\u001b[0m\n\u001b[0;32m---> 11\u001b[0;31m         \u001b[0mavg\u001b[0m \u001b[0;34m=\u001b[0m \u001b[0mcalc_avg_sifid\u001b[0m\u001b[0;34m(\u001b[0m\u001b[0mreal_img_folder\u001b[0m\u001b[0;34m,\u001b[0m \u001b[0mfake_img_folder\u001b[0m\u001b[0;34m)\u001b[0m\u001b[0;34m\u001b[0m\u001b[0m\n\u001b[0m\u001b[1;32m     12\u001b[0m         \u001b[0mresult4\u001b[0m\u001b[0;34m[\u001b[0m\u001b[0mi\u001b[0m\u001b[0;34m]\u001b[0m\u001b[0;34m[\u001b[0m\u001b[0mj\u001b[0m\u001b[0;34m]\u001b[0m \u001b[0;34m=\u001b[0m \u001b[0mavg\u001b[0m\u001b[0;34m.\u001b[0m\u001b[0mmean\u001b[0m\u001b[0;34m(\u001b[0m\u001b[0;34m)\u001b[0m\u001b[0;34m\u001b[0m\u001b[0m\n",
      "\u001b[0;32m<ipython-input-2-85795dd3fc02>\u001b[0m in \u001b[0;36mcalc_avg_sifid\u001b[0;34m(real_file_path, fake_folder_path)\u001b[0m\n\u001b[1;32m      2\u001b[0m     score = calculate_sifid_given_paths(real_file_path, \n\u001b[1;32m      3\u001b[0m                                         \u001b[0mfake_folder_path\u001b[0m\u001b[0;34m,\u001b[0m\u001b[0;34m\u001b[0m\u001b[0m\n\u001b[0;32m----> 4\u001b[0;31m                                         1,False,64,'jpg')\n\u001b[0m\u001b[1;32m      5\u001b[0m     \u001b[0;32mreturn\u001b[0m \u001b[0mnp\u001b[0m\u001b[0;34m.\u001b[0m\u001b[0marray\u001b[0m\u001b[0;34m(\u001b[0m\u001b[0mscore\u001b[0m\u001b[0;34m)\u001b[0m\u001b[0;34m\u001b[0m\u001b[0m\n",
      "\u001b[0;32m/Users/donglinwang/Documents/SinGAN/SinGAN-pytorch/SIFID/sifid_score.py\u001b[0m in \u001b[0;36mcalculate_sifid_given_paths\u001b[0;34m(path1, path2, batch_size, cuda, dims, suffix)\u001b[0m\n\u001b[1;32m    237\u001b[0m     \u001b[0;31m# Im_ind = []\u001b[0m\u001b[0;34m\u001b[0m\u001b[0;34m\u001b[0m\u001b[0m\n\u001b[1;32m    238\u001b[0m     \u001b[0;32mfor\u001b[0m \u001b[0mi\u001b[0m \u001b[0;32min\u001b[0m \u001b[0mrange\u001b[0m\u001b[0;34m(\u001b[0m\u001b[0mlen\u001b[0m\u001b[0;34m(\u001b[0m\u001b[0mfiles2\u001b[0m\u001b[0;34m)\u001b[0m\u001b[0;34m)\u001b[0m\u001b[0;34m:\u001b[0m\u001b[0;34m\u001b[0m\u001b[0m\n\u001b[0;32m--> 239\u001b[0;31m         \u001b[0mm1\u001b[0m\u001b[0;34m,\u001b[0m \u001b[0ms1\u001b[0m \u001b[0;34m=\u001b[0m \u001b[0mcalculate_activation_statistics\u001b[0m\u001b[0;34m(\u001b[0m\u001b[0;34m[\u001b[0m\u001b[0mfiles1\u001b[0m\u001b[0;34m[\u001b[0m\u001b[0;36m0\u001b[0m\u001b[0;34m]\u001b[0m\u001b[0;34m]\u001b[0m\u001b[0;34m,\u001b[0m \u001b[0mmodel\u001b[0m\u001b[0;34m,\u001b[0m \u001b[0mbatch_size\u001b[0m\u001b[0;34m,\u001b[0m \u001b[0mdims\u001b[0m\u001b[0;34m,\u001b[0m \u001b[0mcuda\u001b[0m\u001b[0;34m)\u001b[0m\u001b[0;34m\u001b[0m\u001b[0m\n\u001b[0m\u001b[1;32m    240\u001b[0m         \u001b[0mm2\u001b[0m\u001b[0;34m,\u001b[0m \u001b[0ms2\u001b[0m \u001b[0;34m=\u001b[0m \u001b[0mcalculate_activation_statistics\u001b[0m\u001b[0;34m(\u001b[0m\u001b[0;34m[\u001b[0m\u001b[0mfiles2\u001b[0m\u001b[0;34m[\u001b[0m\u001b[0mi\u001b[0m\u001b[0;34m]\u001b[0m\u001b[0;34m]\u001b[0m\u001b[0;34m,\u001b[0m \u001b[0mmodel\u001b[0m\u001b[0;34m,\u001b[0m \u001b[0mbatch_size\u001b[0m\u001b[0;34m,\u001b[0m \u001b[0mdims\u001b[0m\u001b[0;34m,\u001b[0m \u001b[0mcuda\u001b[0m\u001b[0;34m)\u001b[0m\u001b[0;34m\u001b[0m\u001b[0m\n\u001b[1;32m    241\u001b[0m         \u001b[0mfid_values\u001b[0m\u001b[0;34m.\u001b[0m\u001b[0mappend\u001b[0m\u001b[0;34m(\u001b[0m\u001b[0mcalculate_frechet_distance\u001b[0m\u001b[0;34m(\u001b[0m\u001b[0mm1\u001b[0m\u001b[0;34m,\u001b[0m \u001b[0ms1\u001b[0m\u001b[0;34m,\u001b[0m \u001b[0mm2\u001b[0m\u001b[0;34m,\u001b[0m \u001b[0ms2\u001b[0m\u001b[0;34m)\u001b[0m\u001b[0;34m)\u001b[0m\u001b[0;34m\u001b[0m\u001b[0m\n",
      "\u001b[0;32m/Users/donglinwang/Documents/SinGAN/SinGAN-pytorch/SIFID/sifid_score.py\u001b[0m in \u001b[0;36mcalculate_activation_statistics\u001b[0;34m(files, model, batch_size, dims, cuda, verbose)\u001b[0m\n\u001b[1;32m    202\u001b[0m     \u001b[0mact\u001b[0m \u001b[0;34m=\u001b[0m \u001b[0mget_activations\u001b[0m\u001b[0;34m(\u001b[0m\u001b[0mfiles\u001b[0m\u001b[0;34m,\u001b[0m \u001b[0mmodel\u001b[0m\u001b[0;34m,\u001b[0m \u001b[0mbatch_size\u001b[0m\u001b[0;34m,\u001b[0m \u001b[0mdims\u001b[0m\u001b[0;34m,\u001b[0m \u001b[0mcuda\u001b[0m\u001b[0;34m,\u001b[0m \u001b[0mverbose\u001b[0m\u001b[0;34m)\u001b[0m\u001b[0;34m\u001b[0m\u001b[0m\n\u001b[1;32m    203\u001b[0m     \u001b[0mmu\u001b[0m \u001b[0;34m=\u001b[0m \u001b[0mnp\u001b[0m\u001b[0;34m.\u001b[0m\u001b[0mmean\u001b[0m\u001b[0;34m(\u001b[0m\u001b[0mact\u001b[0m\u001b[0;34m,\u001b[0m \u001b[0maxis\u001b[0m\u001b[0;34m=\u001b[0m\u001b[0;36m0\u001b[0m\u001b[0;34m)\u001b[0m\u001b[0;34m\u001b[0m\u001b[0m\n\u001b[0;32m--> 204\u001b[0;31m     \u001b[0msigma\u001b[0m \u001b[0;34m=\u001b[0m \u001b[0mnp\u001b[0m\u001b[0;34m.\u001b[0m\u001b[0mcov\u001b[0m\u001b[0;34m(\u001b[0m\u001b[0mact\u001b[0m\u001b[0;34m,\u001b[0m \u001b[0mrowvar\u001b[0m\u001b[0;34m=\u001b[0m\u001b[0;32mFalse\u001b[0m\u001b[0;34m)\u001b[0m\u001b[0;34m\u001b[0m\u001b[0m\n\u001b[0m\u001b[1;32m    205\u001b[0m     \u001b[0;32mreturn\u001b[0m \u001b[0mmu\u001b[0m\u001b[0;34m,\u001b[0m \u001b[0msigma\u001b[0m\u001b[0;34m\u001b[0m\u001b[0m\n\u001b[1;32m    206\u001b[0m \u001b[0;34m\u001b[0m\u001b[0m\n",
      "\u001b[0;32m/Users/donglinwang/opt/anaconda3/envs/SingGanTest/lib/python3.5/site-packages/numpy/lib/function_base.py\u001b[0m in \u001b[0;36mcov\u001b[0;34m(m, y, rowvar, bias, ddof, fweights, aweights)\u001b[0m\n\u001b[1;32m   2323\u001b[0m     \u001b[0;32melse\u001b[0m\u001b[0;34m:\u001b[0m\u001b[0;34m\u001b[0m\u001b[0m\n\u001b[1;32m   2324\u001b[0m         \u001b[0mX_T\u001b[0m \u001b[0;34m=\u001b[0m \u001b[0;34m(\u001b[0m\u001b[0mX\u001b[0m\u001b[0;34m*\u001b[0m\u001b[0mw\u001b[0m\u001b[0;34m)\u001b[0m\u001b[0;34m.\u001b[0m\u001b[0mT\u001b[0m\u001b[0;34m\u001b[0m\u001b[0m\n\u001b[0;32m-> 2325\u001b[0;31m     \u001b[0mc\u001b[0m \u001b[0;34m=\u001b[0m \u001b[0mdot\u001b[0m\u001b[0;34m(\u001b[0m\u001b[0mX\u001b[0m\u001b[0;34m,\u001b[0m \u001b[0mX_T\u001b[0m\u001b[0;34m.\u001b[0m\u001b[0mconj\u001b[0m\u001b[0;34m(\u001b[0m\u001b[0;34m)\u001b[0m\u001b[0;34m)\u001b[0m\u001b[0;34m\u001b[0m\u001b[0m\n\u001b[0m\u001b[1;32m   2326\u001b[0m     \u001b[0mc\u001b[0m \u001b[0;34m*=\u001b[0m \u001b[0mnp\u001b[0m\u001b[0;34m.\u001b[0m\u001b[0mtrue_divide\u001b[0m\u001b[0;34m(\u001b[0m\u001b[0;36m1\u001b[0m\u001b[0;34m,\u001b[0m \u001b[0mfact\u001b[0m\u001b[0;34m)\u001b[0m\u001b[0;34m\u001b[0m\u001b[0m\n\u001b[1;32m   2327\u001b[0m     \u001b[0;32mreturn\u001b[0m \u001b[0mc\u001b[0m\u001b[0;34m.\u001b[0m\u001b[0msqueeze\u001b[0m\u001b[0;34m(\u001b[0m\u001b[0;34m)\u001b[0m\u001b[0;34m\u001b[0m\u001b[0m\n",
      "\u001b[0;31mKeyboardInterrupt\u001b[0m: "
     ]
    }
   ],
   "source": [
    "names = ['birds', 'cows', 'balloons', 'zebra']\n",
    "start_scale = 6\n",
    "skips = range(1, 6)\n",
    "result4 = np.zeros((len(names), len(skips)))\n",
    "\n",
    "for i, name in enumerate(names):\n",
    "    for j, skip in enumerate(skips):\n",
    "        print(name, skip)\n",
    "        real_img_folder = './processed/{}_skip_{}/real/'.format(name, skip)\n",
    "        fake_img_folder =  './processed/{}_skip_{}/gen_start_scale={}/'.format(name, skip, start_scale)\n",
    "        avg = calc_avg_sifid(real_img_folder, fake_img_folder)\n",
    "        result4[i][j] = avg.mean()\n"
   ]
  },
  {
   "cell_type": "code",
   "execution_count": null,
   "metadata": {},
   "outputs": [],
   "source": []
  }
 ],
 "metadata": {
  "kernelspec": {
   "display_name": "Python 3",
   "language": "python",
   "name": "python3"
  },
  "language_info": {
   "codemirror_mode": {
    "name": "ipython",
    "version": 3
   },
   "file_extension": ".py",
   "mimetype": "text/x-python",
   "name": "python",
   "nbconvert_exporter": "python",
   "pygments_lexer": "ipython3",
   "version": "3.5.6"
  }
 },
 "nbformat": 4,
 "nbformat_minor": 4
}
