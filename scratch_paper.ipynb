{
 "cells": [
  {
   "cell_type": "code",
   "execution_count": null,
   "metadata": {},
   "outputs": [],
   "source": [
    "import torch\n",
    "import os\n",
    "import numpy as np\n",
    "from skimage.io import imshow\n",
    "l = torch.load('./TrainedModels/balloons/scale_factor=0.750000,alpha=10/Gs.pth')\n",
    "k = torch.load('./TrainedModels/balloons/scale_factor=0.750000,alpha=10/Zs.pth')\n",
    "\n",
    "print(type(l))\n",
    "print(type(l[0]))\n",
    "print(type(k))\n",
    "print(type(k[0]))"
   ]
  },
  {
   "cell_type": "code",
   "execution_count": null,
   "metadata": {},
   "outputs": [],
   "source": [
    "print(k[8].shape)"
   ]
  },
  {
   "cell_type": "code",
   "execution_count": null,
   "metadata": {},
   "outputs": [],
   "source": [
    "img = k[0].numpy()\n",
    "print(type(img))\n",
    "img = np.transpose(img[0], axes=[1, 2, 0])\n",
    "print(img.shape)\n",
    "imshow(img)\n",
    "print(img)"
   ]
  },
  {
   "cell_type": "code",
   "execution_count": null,
   "metadata": {},
   "outputs": [],
   "source": [
    "from skimage.io import imread\n",
    "import numpy as np\n",
    "img1 = imread('./Output/RandomSamples/balloons/gen_start_scale=6/0_6.png')\n",
    "img2 = imread('./Output/RandomSamples/balloons/gen_start_scale=6/4_6.png')\n",
    "print(img1.shape)\n",
    "print(img2.shape)\n",
    "print(np.sum(img1 == img2, axis=(0,1,2)) / img1.size)\n",
    "    "
   ]
  },
  {
   "cell_type": "code",
   "execution_count": null,
   "metadata": {},
   "outputs": [],
   "source": [
    "from SinGAN.models import WDiscriminator\n",
    "import torch\n",
    "\n",
    "# D = torch.load('./TrainedModels/balloons/scale_factor=0.750000,alpha=10/6/netD.pth')\n",
    "D = torch.load('./TrainedModels/balloons/scale_factor=0.750000,alpha=10/Gs.pth')\n"
   ]
  },
  {
   "cell_type": "code",
   "execution_count": null,
   "metadata": {},
   "outputs": [],
   "source": []
  }
 ],
 "metadata": {
  "kernelspec": {
   "display_name": "Python 3",
   "language": "python",
   "name": "python3"
  },
  "language_info": {
   "codemirror_mode": {
    "name": "ipython",
    "version": 3
   },
   "file_extension": ".py",
   "mimetype": "text/x-python",
   "name": "python",
   "nbconvert_exporter": "python",
   "pygments_lexer": "ipython3",
   "version": "3.5.6"
  }
 },
 "nbformat": 4,
 "nbformat_minor": 4
}
